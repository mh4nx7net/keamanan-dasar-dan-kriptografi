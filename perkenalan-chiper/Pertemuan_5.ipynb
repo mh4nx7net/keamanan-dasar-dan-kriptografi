{
  "nbformat": 4,
  "nbformat_minor": 0,
  "metadata": {
    "colab": {
      "name": "Pertemuan 5.ipynb",
      "provenance": [],
      "collapsed_sections": []
    },
    "kernelspec": {
      "name": "python3",
      "display_name": "Python 3"
    },
    "language_info": {
      "name": "python"
    }
  },
  "cells": [
    {
      "cell_type": "code",
      "metadata": {
        "id": "doA8P2OcWku8"
      },
      "source": [
        "\"\"\"\n",
        "pl=[ c, o, b, a]\n",
        "#   k1 >=c =i =g =c\n",
        "#   k1 >=c3(c2(c1(pl)))\n",
        "\n",
        "#   k2 >=h =d =j =o\n",
        "#   k2 >=c1(c3(c2(pl)))\n",
        "\n",
        "#   k3 >=u =u =u =b\n",
        "#   k3 >=c2(c1(c3(pl)))\n",
        "\n",
        "#   k1 >=l =p =r =a\n",
        "#   k1 >=c3(c2(c1(pl)))\n",
        "\n",
        "# chiperKey1 = k3(k2(k1(plain)))\n",
        "# chiperKey2 = k1(k3(k2(plain)))\n",
        "# chiperKey3 = k2(k1(k3(plain)))\n",
        "def k1:\n",
        "    def c1(charX): #-> c\n",
        "        return c1(charX) #-> g\n",
        "    def c2(c1): #-> g\n",
        "        pl = plain()\n",
        "        c2 = pl(c1) #-> i\n",
        "        return c2\n",
        "    def c3(c2): #-> i\n",
        "        pl = plain()\n",
        "        c3 = pl(c2) # -> c\n",
        "        return c3\n",
        "def k2:\n",
        "    def c2(charX):\n",
        "        return c2(charX)\n",
        "    def c3(c2):\n",
        "        pl = plain()\n",
        "        c3 = pl(c2)\n",
        "        return c3\n",
        "    def c1(c3):\n",
        "        pl = plain()\n",
        "        c1 = pl(c3)\n",
        "        return c1\n",
        "def k3:\n",
        "    def c3(charX):\n",
        "        return c3(charX)\n",
        "    def c1(c3):\n",
        "        pl = plain()\n",
        "        c1 = pl(c3)\n",
        "        return c1\n",
        "    def c2(c1):\n",
        "        pl = plain()\n",
        "        c2 = pl(c1)\n",
        "        return c2\n",
        "\"\"\""
      ],
      "execution_count": null,
      "outputs": []
    },
    {
      "cell_type": "code",
      "metadata": {
        "id": "zfeSik05Y6W5"
      },
      "source": [
        "import string, re\n",
        "from collections import OrderedDict\n",
        "from typing import Match \n",
        "import numpy as np\n",
        "\n",
        "def removeDupWithOrder(str): \n",
        "    return \"\".join(OrderedDict.fromkeys(str))\n",
        "text = \"DALAM\".upper()\n",
        "plain = re.sub(\"\\s+\",'',text)\n",
        "keyword1 = \"raghni sandiko\".upper()\n",
        "keyword2 = \"selamat tinggal\".upper()\n",
        "keyword3 = \"sugiono\".upper()\n",
        "\n",
        "chars = string.ascii_uppercase                                      # pl['a', 'b', 'c', 'd', 'e', 'f', 'g', 'h', 'i', 'j', 'k', 'l', 'm', 'n', 'o', 'p', 'q', 'r', 's', 't', 'u', 'v', 'w', 'x', 'y', 'z']\n",
        "chiperKey1 = removeDupWithOrder(re.sub(\"\\s+\",'',keyword1)+chars)    # k1['r', 'a', 'g', 'h', 'n', 'i', 's', 'd', 'k', 'o', 'b', 'c', 'e', 'f', 'j', 'l', 'm', 'p', 'q', 't', 'u', 'v', 'w', 'x', 'y', 'z']\n",
        "chiperKey2 = removeDupWithOrder(re.sub(\"\\s+\",'',keyword2)+chars)    # k2['s', 'e', 'l', 'a', 'm', 't', 'i', 'n', 'g', 'b', 'c', 'd', 'f', 'h', 'j', 'k', 'o', 'p', 'q', 'r', 'u', 'v', 'w', 'x', 'y', 'z']\n",
        "chiperKey3 = removeDupWithOrder(re.sub(\"\\s+\",'',keyword3)+chars)    # k3['s', 'u', 'g', 'i', 'o', 'n', 'a', 'b', 'c', 'd', 'e', 'f', 'h', 'j', 'k', 'l', 'm', 'p', 'q', 'r', 't', 'v', 'w', 'x', 'y', 'z']\n",
        "\n",
        "\n",
        "# mix K1 only\n",
        "# kata : coba\n",
        "# jadi : cuql\n",
        "def methodZigzag(plain):\n",
        "    # OUTPUT = None\n",
        "    for idp, charp in enumerate(plain):\n",
        "        # for idc, charc in enumerate(chars):\n",
        "        def salt1():\n",
        "            indexC1 = chars.index(charp)\n",
        "            indexC2 = chars.index(list(chiperKey1)[indexC1])\n",
        "            indexC3 = chars.index(list(chiperKey2)[indexC2])\n",
        "            return list(chiperKey3)[indexC3]\n",
        "        def salt2():\n",
        "            indexC2 = chars.index(charp)\n",
        "            indexC3 = chars.index(list(chiperKey2)[indexC2])\n",
        "            indexC1 = chars.index(list(chiperKey3)[indexC3])\n",
        "            return list(chiperKey1)[indexC1]\n",
        "        def salt3():\n",
        "            indexC3 = chars.index(charp)\n",
        "            indexC1 = chars.index(list(chiperKey3)[indexC3])\n",
        "            indexC2 = chars.index(list(chiperKey1)[indexC1])\n",
        "            return list(chiperKey2)[indexC2]\n",
        "\n",
        "        switch = {\n",
        "            0: salt1(),\n",
        "            1: salt2(),\n",
        "            2: salt3()\n",
        "        }\n",
        "        \n",
        "        # OUTPUT.join(switch.get(idp%3))\n",
        "        print(idp, charp, idp%3, switch.get(idp%3)) #debuging purpose\n",
        "        # return \"\".join(\"c\")\n",
        "\n",
        "# print(OUTPUT)\n",
        "a = np.asarray([ [1,2,3], [4,5,6], [7,8,9] ])\n",
        "np.savetxt(\"foo.csv\", a, delimiter=\",\")\n",
        "\n"
      ],
      "execution_count": 2,
      "outputs": []
    },
    {
      "cell_type": "code",
      "metadata": {
        "colab": {
          "base_uri": "https://localhost:8080/"
        },
        "id": "5IoRztNDW83h",
        "outputId": "4046370b-287e-4618-fd7b-24475168b1d6"
      },
      "source": [
        "methodZigzag(plain)\n",
        "\n"
      ],
      "execution_count": null,
      "outputs": [
        {
          "output_type": "stream",
          "name": "stdout",
          "text": [
            "0 D 0 J\n",
            "1 A 1 M\n",
            "2 L 2 G\n",
            "3 A 0 L\n",
            "4 M 1 F\n"
          ]
        }
      ]
    },
    {
      "cell_type": "markdown",
      "metadata": {
        "id": "FD3cbDagZFY2"
      },
      "source": [
        "# New Section"
      ]
    }
  ]
}